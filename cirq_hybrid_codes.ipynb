{
 "cells": [
  {
   "cell_type": "markdown",
   "metadata": {},
   "source": [
    "# Surface Algebras as Hybrid Qudit Surface Codes in Google Cirq"
   ]
  },
  {
   "cell_type": "markdown",
   "metadata": {},
   "source": [
    "## Google's Plan for Surface Codes"
   ]
  },
  {
   "cell_type": "markdown",
   "metadata": {},
   "source": [
    "In Google's paper in Nature [Quantum supremacy using a programmable superconducting processor](https://www.nature.com/articles/s41586-019-1666-5), they state that they \"designed a quantum processor named ‘Sycamore’ which consists of a two-dimensional array of 54 transmon qubits, where each qubit is tunably coupled to four nearest neighbours, in a rectangular lattice. The connectivity was chosen to be forward-compatible with error correction using the surface code\". Below, we can use Cirq, Google's quantum computing software library, to print off the layout of the Sycamore processor they used in their paper. "
   ]
  },
  {
   "cell_type": "code",
   "execution_count": 1,
   "metadata": {},
   "outputs": [
    {
     "name": "stdout",
     "output_type": "stream",
     "text": [
      "Name: cirq\n",
      "Version: 0.8.1\n",
      "Summary: A framework for creating, editing, and invoking Noisy Intermediate Scale Quantum (NISQ) circuits.\n",
      "Home-page: http://github.com/quantumlib/cirq\n",
      "Author: The Cirq Developers\n",
      "Author-email: cirq@googlegroups.com\n",
      "License: Apache 2\n",
      "Location: /opt/anaconda3/lib/python3.7/site-packages\n",
      "Requires: sympy, sortedcontainers, numpy, typing-extensions, matplotlib, freezegun, pandas, protobuf, requests, google-api-core, scipy, networkx\n",
      "Required-by: \n",
      "Note: you may need to restart the kernel to use updated packages.\n"
     ]
    }
   ],
   "source": [
    "pip show cirq"
   ]
  },
  {
   "cell_type": "code",
   "execution_count": 2,
   "metadata": {},
   "outputs": [],
   "source": [
    "import cirq"
   ]
  },
  {
   "cell_type": "code",
   "execution_count": 3,
   "metadata": {},
   "outputs": [],
   "source": [
    "# Version: 0.8.1"
   ]
  },
  {
   "cell_type": "code",
   "execution_count": 4,
   "metadata": {},
   "outputs": [
    {
     "name": "stdout",
     "output_type": "stream",
     "text": [
      "                                             (0, 5)───(0, 6)\n",
      "                                             │        │\n",
      "                                             │        │\n",
      "                                    (1, 4)───(1, 5)───(1, 6)───(1, 7)\n",
      "                                    │        │        │        │\n",
      "                                    │        │        │        │\n",
      "                           (2, 3)───(2, 4)───(2, 5)───(2, 6)───(2, 7)───(2, 8)\n",
      "                           │        │        │        │        │        │\n",
      "                           │        │        │        │        │        │\n",
      "                  (3, 2)───(3, 3)───(3, 4)───(3, 5)───(3, 6)───(3, 7)───(3, 8)───(3, 9)\n",
      "                  │        │        │        │        │        │        │        │\n",
      "                  │        │        │        │        │        │        │        │\n",
      "         (4, 1)───(4, 2)───(4, 3)───(4, 4)───(4, 5)───(4, 6)───(4, 7)───(4, 8)───(4, 9)\n",
      "         │        │        │        │        │        │        │        │\n",
      "         │        │        │        │        │        │        │        │\n",
      "(5, 0)───(5, 1)───(5, 2)───(5, 3)───(5, 4)───(5, 5)───(5, 6)───(5, 7)───(5, 8)\n",
      "         │        │        │        │        │        │        │\n",
      "         │        │        │        │        │        │        │\n",
      "         (6, 1)───(6, 2)───(6, 3)───(6, 4)───(6, 5)───(6, 6)───(6, 7)\n",
      "                  │        │        │        │        │\n",
      "                  │        │        │        │        │\n",
      "                  (7, 2)───(7, 3)───(7, 4)───(7, 5)───(7, 6)\n",
      "                           │        │        │\n",
      "                           │        │        │\n",
      "                           (8, 3)───(8, 4)───(8, 5)\n",
      "                                    │\n",
      "                                    │\n",
      "                                    (9, 4)\n"
     ]
    }
   ],
   "source": [
    "print(cirq.google.Sycamore)"
   ]
  },
  {
   "cell_type": "markdown",
   "metadata": {},
   "source": [
    "So, we know the plan is to use surface codes for error correction in the future. Error correction software is both timely and relevant for moving forward with quantum computing. In this notebook we will look at how to use our library for error correction using Cirq, and how to implement surface codes for mixed qudit circuits, giving a *physical realization* of [Surface Algebras I](https://arxiv.org/abs/1810.06750) and [Surface Algebras II](https://arxiv.org/abs/1812.00621). This provides an implementation of the [Hilbert-Polya conjecture](https://en.wikipedia.org/wiki/Hilbert%E2%80%93P%C3%B3lya_conjecture) by using the Hamiltonian associated to the quantum mechanical system given by the surface code. "
   ]
  },
  {
   "cell_type": "code",
   "execution_count": 5,
   "metadata": {},
   "outputs": [],
   "source": [
    "from collections import Counter\n",
    "from typing import Tuple, List\n",
    "\n",
    "from networkx import MultiGraph\n",
    "from networkx import nx\n",
    "from networkx.algorithms import bipartite\n",
    "from sympy.combinatorics import Permutation\n",
    "\n",
    "import matplotlib.pyplot as plt\n",
    "\n",
    "\n",
    "# from SurfaceCodes.utilites import permlist_to_tuple\n",
    "\n",
    "\n",
    "class SurfaceCodeGraph(MultiGraph):\n",
    "    def __init__(self, sigma: Tuple[Tuple[int]], alpha: Tuple[Tuple[int]]):\n",
    "        super().__init__()\n",
    "        self.sigma = sigma  # should include singletons corresponding to fixed points\n",
    "        self.alpha = alpha  # should include singletons corresponding to fixed points\n",
    "        f = self.compute_phi()\n",
    "        self.phi = self.permlist_to_tuple(f)\n",
    "        self.build_node_info()  # print dictionary for [sigma, alpha, phi]\n",
    "        self.node_dict = self.sigma_dict, self.alpha_dict, self.phi_dict\n",
    "        \n",
    "        self.node_info = [\"sigma:\", self.sigma_dict, \n",
    "                          \"alpha:\", self.alpha_dict, \n",
    "                          \"phi:\", self.phi_dict]\n",
    "\n",
    "        self.code_graph = nx.MultiGraph()\n",
    "\n",
    "        # Create black nodes for each cycle in sigma along with white nodes\n",
    "        # representing \"half edges\" around the black nodes\n",
    "        for cycle in self.sigma:\n",
    "            self.code_graph.add_node(cycle, bipartite=1)\n",
    "            for node in cycle:\n",
    "                self.code_graph.add_node(node, bipartite=0)\n",
    "                self.code_graph.add_edge(cycle, node)\n",
    "\n",
    "        # Create black nodes for each cycle in phi along with white nodes\n",
    "        # representing \"half edges\" around the black nodes\n",
    "        for cycle in self.phi:\n",
    "            self.code_graph.add_node(cycle, bipartite=1)\n",
    "            for node in cycle:\n",
    "                self.code_graph.add_edge(cycle, node)\n",
    "\n",
    "        # Create nodes for each cycle in alpha then\n",
    "        # glue the nodes corresponding to a the pairs\n",
    "        for pair in self.alpha:\n",
    "            self.code_graph.add_node(pair)\n",
    "            self.code_graph = nx.contracted_nodes(self.code_graph, pair[0], pair[1], self_loops=True)\n",
    "            # Now contract pair with pair[0] to make sure edges (white nodes) are labeled\n",
    "            # by the pairs in alpha to keep track of the gluing from the previous step\n",
    "            self.code_graph = nx.contracted_nodes(self.code_graph, pair, pair[0], self_loops=True)\n",
    "            \n",
    "        # Define the white and black nodes. White correspond to edges labeled by \n",
    "        # cycles in alpha. Black correspond to nodes labeled by cycles in sigma\n",
    "        # (vertices) and phi (faces)\n",
    "        self.black_nodes, self.white_nodes = bipartite.sets(self.code_graph)\n",
    "\n",
    "    def permlist_to_tuple(self, perms):\n",
    "        \"\"\"\n",
    "        convert list of lists to tuple of tuples in order to have two level iterables\n",
    "        that are hashable for the dictionaries used later\n",
    "        \"\"\"\n",
    "        return tuple(tuple(perm) for perm in perms)\n",
    "\n",
    "    def compute_phi(self):\n",
    "        \"\"\"compute the list of lists full cyclic form of phi (faces of dessin [sigma, alpha, phi])\"\"\"\n",
    "        s = Permutation(self.sigma)\n",
    "        a = Permutation(self.alpha)\n",
    "        f = ~(a * s)\n",
    "        f = f.full_cyclic_form  # prints permutation as a list of lists including all singletons (fixed points)\n",
    "        return f\n",
    "\n",
    "    def build_node_info(self):\n",
    "        count = -1\n",
    "\n",
    "        self.sigma_dict = dict()\n",
    "        for count, cycle in enumerate(self.sigma):\n",
    "            self.sigma_dict[cycle] = count\n",
    "\n",
    "        self.phi_dict = dict()\n",
    "        for count, cycle in enumerate(self.phi, start=count + 1):\n",
    "            self.phi_dict[cycle] = count\n",
    "\n",
    "        self.alpha_dict = dict()\n",
    "        for count, pair in enumerate(self.alpha, start=count + 1):\n",
    "            self.alpha_dict[pair] = count\n",
    "        return tuple([self.sigma_dict, self.alpha_dict, self.phi_dict])\n",
    "    \n",
    "    def boundary_1(self, edge):\n",
    "        \"\"\"\n",
    "        compute boundary of a single edge given by a white node (cycle in alpha)\n",
    "        \"\"\"\n",
    "        boundary1 = [node for node in self.code_graph.neighbors(edge) if node in self.sigma_dict]\n",
    "        return boundary1\n",
    "    \n",
    "    def del_1(self, edges: List[Tuple[int]]):\n",
    "        \"\"\"\n",
    "        boundary of a list of edges, i.e. an arbitrary 1-chain over Z/2Z\n",
    "        \"\"\"\n",
    "\n",
    "        boundary_list = [self.boundary_1(edge) for edge in edges]\n",
    "        a = Counter([y for x in boundary_list for y in x])\n",
    "        boundary_list = [x[0] for x in a.items() if x[1] % 2 == 1]\n",
    "        return boundary_list\n",
    "\n",
    "    def boundary_2(self, face):\n",
    "        \"\"\"\n",
    "        compute boundary of a single face\n",
    "        \"\"\"\n",
    "        boundary = self.code_graph.neighbors(face)\n",
    "        return boundary\n",
    "\n",
    "    def del_2(self, faces: List[Tuple[int]]):\n",
    "        \"\"\"\n",
    "        boundary of a list of faces, i.e. an arbitrary 2-chain over Z/2Z\n",
    "        \"\"\"\n",
    "\n",
    "        boundary_list = [self.boundary_2(face) for face in faces]\n",
    "        a = Counter([y for x in boundary_list for y in x])\n",
    "        boundary_list = [x[0] for x in a.items() if x[1] % 2 == 1]\n",
    "        return boundary_list\n",
    "\n",
    "    def coboundary_1(self, star):\n",
    "        \"\"\"\n",
    "        compute coboundary of a single star\n",
    "        \"\"\"\n",
    "        coboundary = self.code_graph.neighbors(star)\n",
    "        return coboundary\n",
    "\n",
    "    def delta_1(self, stars: List[Tuple[int]]):\n",
    "        \"\"\"\n",
    "        coboundary of a list of stars, i.e. an arbitrary 0-cochain over Z/2Z\n",
    "        \"\"\"\n",
    "        coboundary_list = [self.coboundary_1(star) for star in stars]\n",
    "        a = Counter([y for x in coboundary_list for y in x])\n",
    "        coboundary_list = [x[0] for x in a.items() if x[1] % 2 == 1]\n",
    "        return coboundary_list\n",
    "    \n",
    "    def coboundary_2(self, edge):\n",
    "        \"\"\"\n",
    "        compute coboundary of a single edge given by a white node (cycle in alpha)\n",
    "        \"\"\"\n",
    "        coboundary2 = [node for node in self.code_graph.neighbors(edge) if node in self.phi_dict]\n",
    "        return coboundary2\n",
    "    \n",
    "    def delta_2(self, edges: List[Tuple[int]]):\n",
    "        \"\"\"\n",
    "        coboundary of a list of edges, i.e. an arbitrary 1-cochain over Z/2Z\n",
    "        given by a list of cycles in alpha\n",
    "        \"\"\"\n",
    "        coboundary_list = [self.coboundary_2(edge) for edge in edges]\n",
    "        a = Counter([y for x in coboundary_list for y in x])\n",
    "        coboundary_list = [x[0] for x in a.items() if x[1] % 2 == 1]\n",
    "        return coboundary_list\n",
    "\n",
    "    def euler_characteristic(self):\n",
    "        \"\"\"\n",
    "        Compute the Euler characteristic of the surface in which the graph is embedded\n",
    "        \"\"\"\n",
    "        chi = len(self.phi) - len(self.alpha) + len(self.sigma)\n",
    "        return (chi)\n",
    "\n",
    "    def genus(self):\n",
    "        \"\"\"\n",
    "        Compute the genus of the surface in which the graph is embedded\n",
    "        \"\"\"\n",
    "        g = int(-(len(self.phi) - len(self.alpha) + len(self.sigma) - 2) / 2)\n",
    "        return (g)\n",
    "    \n",
    "    \n",
    "    def draw(self, node_type='', layout = ''):\n",
    "        \"\"\"\n",
    "        Draw graph with vertices, edges, and faces labeled by colored nodes and their integer indices \n",
    "        corresponding to the qubit indices for the surface code\n",
    "        \"\"\"\n",
    "        if not node_type in ['cycles', 'dict']:\n",
    "            raise ValueError('node_type can be \"cycles\" or \"dict\"')\n",
    "        \n",
    "        if layout == 'spring':\n",
    "            pos=nx.spring_layout(self.code_graph)\n",
    "        if layout == 'spectral':\n",
    "            pos=nx.spectral_layout(self.code_graph)\n",
    "        if layout == 'planar':\n",
    "            pos=nx.planar_layout(self.code_graph)\n",
    "        if layout == 'shell':\n",
    "            pos=nx.shell_layout(self.code_graph)\n",
    "        if layout == 'circular':\n",
    "            pos=nx.circular_layout(self.code_graph)\n",
    "        if layout == 'spiral':\n",
    "            pos=nx.spiral_layout(self.code_graph)\n",
    "        if layout == 'random':\n",
    "            pos=nx.random_layout(self.code_graph)\n",
    "        # white nodes\n",
    "        nx.draw_networkx_nodes(self.code_graph, pos,\n",
    "                       nodelist=list(self.alpha),\n",
    "                       node_color='c',\n",
    "                       node_size=500,\n",
    "                    alpha=0.3)\n",
    "        # vertex nodes\n",
    "        nx.draw_networkx_nodes(self.code_graph, pos,\n",
    "                       nodelist=list(self.sigma),\n",
    "                       node_color='b',\n",
    "                       node_size=500,\n",
    "                    alpha=0.6)\n",
    "         # face nodes\n",
    "        nx.draw_networkx_nodes(self.code_graph, pos,\n",
    "                       nodelist=list(self.phi),\n",
    "                       node_color='r',\n",
    "                       node_size=500,\n",
    "                    alpha=0.6)\n",
    "        # edges\n",
    "        nx.draw_networkx_edges(self.code_graph, pos, width=1.0, alpha=0.5)\n",
    "\n",
    "        labels={}\n",
    "\n",
    "        if node_type == 'cycles':\n",
    "            '''\n",
    "            label nodes the cycles of sigma, alpha, and phi\n",
    "            '''\n",
    "            for node in self.alpha_dict:\n",
    "                # stuff = self.alpha_dict[node]\n",
    "                labels[node]=f'$e$({node})'\n",
    "            for node in self.sigma_dict:\n",
    "                # something = self.sigma_dict[node]\n",
    "                labels[node]=f'$v$({node})'\n",
    "            for node in self.phi_dict:\n",
    "                # something2 = self.phi_dict[node]\n",
    "                labels[node]=f'$f$({node})'\n",
    "            nx.draw_networkx_labels(self.code_graph, pos, labels, font_size=12)\n",
    "\n",
    "        if node_type == 'dict':\n",
    "            '''\n",
    "            label nodes with v, e, f and indices given by node_dict corresponding to\n",
    "            qubit indices of surface code\n",
    "            '''\n",
    "\n",
    "            for node in self.alpha_dict:\n",
    "                # stuff = self.alpha_dict[node]\n",
    "                labels[node]=f'$e$({self.alpha_dict[node]})'\n",
    "            for node in self.sigma_dict:\n",
    "                # something = self.sigma_dict[node]\n",
    "                labels[node]=f'$v$({self.sigma_dict[node]})'\n",
    "            for node in self.phi_dict:\n",
    "                # something2 = self.phi_dict[node]\n",
    "                labels[node]=f'$f$({self.phi_dict[node]})'\n",
    "            nx.draw_networkx_labels(self.code_graph, pos, labels, font_size=12)\n",
    "        \n",
    "        # plt.axis('off')\n",
    "        # plt.savefig(\"labels_and_colors.png\") # save as png\n",
    "        plt.show() # display\n",
    "        "
   ]
  },
  {
   "cell_type": "code",
   "execution_count": 6,
   "metadata": {},
   "outputs": [],
   "source": [
    "import cirq\n",
    "import numpy as np\n",
    "from typing import Tuple\n",
    "from networkx import nx\n",
    "\n",
    "# from qiskit import\n",
    "# from src import SurfaceCodeGraph\n",
    "\n",
    "\n",
    "class CirqSurfaceCodeCircuit():\n",
    "\n",
    "    def __init__(self, sigma: Tuple[Tuple[int]], alpha: Tuple[Tuple[int]]):\n",
    "        # super().__init__()\n",
    "        self.sigma = sigma\n",
    "        self.alpha = alpha\n",
    "\n",
    "        self.scgraph = SurfaceCodeGraph(self.sigma, self.alpha)\n",
    "\n",
    "        '''\n",
    "        Compute the permutation corresponding to phi and create a \n",
    "        'surface code circuit' based on a (multi)graph 'surface_code_graph'\n",
    "        given by sigma, alpha, and phi\n",
    "        Create quantum and classical registers based on the number of nodes in G\n",
    "        '''\n",
    "        # f = self.scgraph.compute_phi()\n",
    "        self.phi = self.scgraph.phi\n",
    "\n",
    "        self.qubits = [cirq.NamedQubit(str(node)) for node in self.scgraph.code_graph.nodes]\n",
    "        self.circuit = cirq.Circuit()\n",
    "\n",
    "        self.node_info = self.scgraph.node_dict\n",
    "        self.sigma_dict, self.alpha_dict, self.phi_dict = self.node_info\n",
    "\n",
    "        for cycle in self.sigma:\n",
    "            self.circuit.append(cirq.H(cirq.NamedQubit(str(cycle))))\n",
    "\n",
    "        for cycle in self.phi:\n",
    "            self.circuit.append(cirq.H(cirq.NamedQubit(str(cycle))))\n",
    "\n",
    "    def draw_circuit(self, render=''):\n",
    "        # if render == 'mpl':\n",
    "        #   self.Qiskit_circ = SurfaceCodeCircuit(self.sigma, self.alpha)\n",
    "        #  return self.Qiskit_circ.circ.draw('mpl')\n",
    "\n",
    "        # if render == 'plain':\n",
    "        #   self.Qiskit_circ = SurfaceCodeCircuit(self.sigma, self.alpha)\n",
    "        #  return self.Qiskit_circ.circ.draw()\n",
    "\n",
    "        if render == '':\n",
    "            print(self.circuit)\n",
    "\n",
    "    def x_measurement(self, qubit):\n",
    "        \"\"\"Measure 'qubit' in the X-basis\n",
    "        :param qubit: a name to designate a cirq.NamedQubit(str(qubit))\n",
    "        :return None\n",
    "        \"\"\"\n",
    "        self.circuit.append(cirq.H(cirq.NamedQubit(str(qubit))))\n",
    "        self.circuit.append(cirq.measure(cirq.NamedQubit(str(qubit))))\n",
    "        self.circuit.append(cirq.H(cirq.NamedQubit(str(qubit))))\n",
    "\n",
    "    def star_syndrome_measure(self, vertex: Tuple[int]):\n",
    "        \"\"\"\n",
    "        Applies CX gates to surrounding qubits of a star then measures star qubit in X-basis\n",
    "        :param vertex:\n",
    "        :return:  self.circ, self.scgraph, self.node_info\n",
    "        \"\"\"\n",
    "\n",
    "        for node in self.scgraph.code_graph.neighbors(vertex):\n",
    "            self.circuit.append(cirq.CNOT(cirq.NamedQubit(str(vertex)), cirq.NamedQubit(str(node))))\n",
    "        self.x_measurement(vertex)\n",
    "\n",
    "    def face_syndrome_measure(self, vertex: Tuple[int]):\n",
    "        \"\"\"\n",
    "        Applies CZ gates to surrounding qubits on the boundary of a face then measures face qubit in X-basis\n",
    "        :param vertex:\n",
    "        :return:\n",
    "        \"\"\"\n",
    "\n",
    "        for node in self.scgraph.code_graph.neighbors(vertex):\n",
    "            self.circuit.append(cirq.CZ(cirq.NamedQubit(str(vertex)), cirq.NamedQubit(str(node))))\n",
    "\n",
    "        self.x_measurement(vertex)\n",
    "\n",
    "    def X_1_chain(self, edges):\n",
    "        \"\"\"\n",
    "        Pauli product X operator for arbitrary 1-cochain given by\n",
    "        a list of edges\n",
    "        \"\"\"\n",
    "        for edge in edges:\n",
    "            self.circuit.append(cirq.X(cirq.NamedQubit(str(edge))))\n",
    "\n",
    "    def Z_1_chain(self, edges):\n",
    "        \"\"\"\n",
    "        Pauli product Z operator for arbitrary 1-chain given by\n",
    "        a list of edges\n",
    "        \"\"\"\n",
    "        for edge in edges:\n",
    "            self.circuit.append(cirq.Z(cirq.NamedQubit(str(edge))))\n",
    "\n",
    "    def product_Z(self, faces):\n",
    "        \"\"\"\n",
    "        Pauli product Z operator for arbitrary 2-chain boundary\n",
    "        \"\"\"\n",
    "\n",
    "        boundary_nodes = self.scgraph.del_2(faces)\n",
    "        for node in boundary_nodes:\n",
    "            self.circuit.append(cirq.Z(cirq.NamedQubit(str(node))))\n",
    "\n",
    "    def product_X(self, stars):\n",
    "        \"\"\"\n",
    "        Pauli product X operator for arbitrary 0-cochain coboundary\n",
    "        \"\"\"\n",
    "        coboundary_nodes = self.scgraph.delta_1(stars)\n",
    "        for node in coboundary_nodes:\n",
    "            self.circuit.append(cirq.X(cirq.NamedQubit(str(node))))\n",
    "\n",
    "\n",
    "\n",
    "    def draw_graph(self, node_type='', layout=''):\n",
    "        if layout == 'spring':\n",
    "            pos = nx.spring_layout(self.scgraph.code_graph)\n",
    "        if layout == 'spectral':\n",
    "            pos = nx.spectral_layout(self.scgraph.code_graph)\n",
    "        if layout == 'planar':\n",
    "            pos = nx.planar_layout(self.scgraph.code_graph)\n",
    "        if layout == 'shell':\n",
    "            pos = nx.shell_layout(self.scgraph.code_graph)\n",
    "        if layout == 'circular':\n",
    "            pos = nx.circular_layout(self.scgraph.code_graph)\n",
    "        if layout == 'spiral':\n",
    "            pos = nx.spiral_layout(self.scgraph.code_graph)\n",
    "        if layout == 'random':\n",
    "            pos = nx.random_layout(self.scgraph.code_graph)\n",
    "        if node_type == 'cycles':\n",
    "            self.scgraph.draw('cycles', layout)\n",
    "        if node_type == 'dict':\n",
    "            self.scgraph.draw('dict', layout)"
   ]
  },
  {
   "cell_type": "markdown",
   "metadata": {},
   "source": [
    "## Dessins and Constellations\n",
    "\n",
    "Constructing a surface code given by an arbitrary graph embedded in a surface (i.e. a compact 2-manifold) is easy. All we need are two permutations $\\sigma$ and $\\alpha$. These are closely related to \"dessins d'enfants\", cellularly embedded graphs, \"ribbon graphs\", tesselations of the hyperbolic plane/Poincaré disk, Fuchsian and triangle groups, and many other very interesting mathematical objects.\n",
    "\n",
    "\"**Dessins d’enfants**\" are, in the simplest terms, *bipartite* graphs embedded in a compact Riemann surface (without boundary). They are combinatorial tools used in the study of Inverse Galois Theory, orbits of the absolute Galois group of a number field, and ”Belyi functions”, which are coverings of the sphere $\\mathbb{P}^1(\\mathbb{C})$ ramified at most at three points, which can be assumed to be $\\{0, 1, \\infty \\}$ (up to a Mobius transformation). One way of constructing dessins is via a combinatorial object called a ”**3-constellation**” $C = [\\sigma, \\alpha, \\phi]$, which is a triple of permutations such that, \n",
    "\n",
    "1. The group $G = \\langle \\sigma, \\alpha, \\phi \\rangle$, generated by the three permutations, acts transitively on $[n] = \\{0, 1,2,...,n-1\\}$, the set of $n$-points. \n",
    "2. The product $\\sigma \\alpha \\phi = \\mathbf{id}$, is the identity. So $\\phi = (\\sigma \\alpha)^{-1}$.\n",
    "\n",
    "If we restrict to the case where $\\alpha$ is a fixed-point free involution, we obtain part of the standard definition of a **Brauer graph**. In the case where we do not assume this restriction, this gives a ”**hypermap**” which corresponds uniquely to a bipartite graph embedded in a compact Riemann surface and to a dessin d’enfant. Sometimes this construction is also called a \"clean dessin\". \n",
    "\n",
    "This combinatorial setup encodes a baffling amount of information even though all we start with are two permutations $\\sigma$ and $\\alpha$ satisfying the above two properties ($\\phi$ is defined in terms of $\\sigma$ and $\\alpha$). In particular, we can easily compute the **Euler characteristic** of the surface in which the graph is embedded:\n",
    "\n",
    "\\begin{align}\n",
    "\\chi = |\\sigma|-|\\alpha|+|\\phi| = V-E+F.\n",
    "\\end{align}\n",
    "\n",
    "The reason for this is due to the following correspondence:\n",
    "\n",
    "- $|\\sigma|$ (i.e. the number of cycles in $\\sigma$) is equal to the number of (black) vertices of the graph\n",
    "- $|\\alpha|$ is the number of edges (labeled by white nodes) of the graph\n",
    "- $|\\phi|$ is the number of faces of the graph\n",
    "\n",
    "### An Example of a Constellation\n",
    "\n",
    "A simple example of a constellation is\n",
    "\n",
    "- $\\sigma = ((0,1,2), (3,4,5))$\n",
    "- $\\alpha = ((0,3),(1,4),(2,5))$\n",
    "\n",
    "From this we can compute $\\phi=(0,5,1,3,2,4)$, giving us the constellation $[\\sigma, \\alpha, \\phi]$. Computing with permutations is handled with SymPy, which is used in the class `SurfaceCodeGraph`. This class is where all of the relevant topological and combinatorial computations are done. The classes `CirqSurfaceCodeCircuit` and `QiskitSurfaceCodeCircuit` both depend on this class and refer to its methods when computing things like, \n",
    "\n",
    "- Syndrome Measurements\n",
    "- 2-chain boundary Pauli product operators\n",
    "- 0-cochain coboundary Pauli product operators\n",
    "- arbitrary 1-chain and 1-cochain Pauli product operators\n",
    "\n",
    "In particular, the class `SurfaceCodeGraph` has methods to handle computing boundaries and coboundaries of arbitrary n-chains and n-cochains, where $n = 0,1,2$. All homology and computations with n-chains and n-cochains is done over $\\mathbb{Z}/2\\mathbb{Z}$, which is standard in quantum surface codes. \n",
    "\n",
    "As an example, we can create an instance of `CirqSurfaceCodeCircuit` for the constellation above:"
   ]
  },
  {
   "cell_type": "code",
   "execution_count": 7,
   "metadata": {},
   "outputs": [],
   "source": [
    "sigma = ((0,1,2),(3,4,5))\n",
    "alpha = ((0,3),(1,4),(2,5))\n",
    "SCC = CirqSurfaceCodeCircuit(sigma, alpha)"
   ]
  },
  {
   "cell_type": "code",
   "execution_count": 8,
   "metadata": {},
   "outputs": [
    {
     "name": "stdout",
     "output_type": "stream",
     "text": [
      "(0, 1, 2): ────────────H───\n",
      "\n",
      "(0, 5, 1, 3, 2, 4): ───H───\n",
      "\n",
      "(3, 4, 5): ────────────H───\n"
     ]
    }
   ],
   "source": [
    "SCC.draw_circuit()"
   ]
  },
  {
   "cell_type": "code",
   "execution_count": 9,
   "metadata": {},
   "outputs": [],
   "source": [
    "SCC.product_Z([(0, 5, 1, 3, 2, 4)])"
   ]
  },
  {
   "cell_type": "code",
   "execution_count": 10,
   "metadata": {},
   "outputs": [
    {
     "name": "stdout",
     "output_type": "stream",
     "text": [
      "(0, 1, 2): ────────────H───\n",
      "\n",
      "(0, 3): ───────────────Z───\n",
      "\n",
      "(0, 5, 1, 3, 2, 4): ───H───\n",
      "\n",
      "(1, 4): ───────────────Z───\n",
      "\n",
      "(2, 5): ───────────────Z───\n",
      "\n",
      "(3, 4, 5): ────────────H───\n"
     ]
    }
   ],
   "source": [
    "SCC.draw_circuit()"
   ]
  },
  {
   "cell_type": "code",
   "execution_count": 11,
   "metadata": {},
   "outputs": [],
   "source": [
    "SCC.product_X([(0, 1, 2)])"
   ]
  },
  {
   "cell_type": "code",
   "execution_count": 12,
   "metadata": {},
   "outputs": [
    {
     "name": "stdout",
     "output_type": "stream",
     "text": [
      "(0, 1, 2): ────────────H───────\n",
      "\n",
      "(0, 3): ───────────────Z───X───\n",
      "\n",
      "(0, 5, 1, 3, 2, 4): ───H───────\n",
      "\n",
      "(1, 4): ───────────────Z───X───\n",
      "\n",
      "(2, 5): ───────────────Z───X───\n",
      "\n",
      "(3, 4, 5): ────────────H───────\n"
     ]
    }
   ],
   "source": [
    "SCC.draw_circuit()"
   ]
  },
  {
   "cell_type": "code",
   "execution_count": 13,
   "metadata": {},
   "outputs": [],
   "source": [
    "qubit = (0,1,2)\n",
    "SCC.x_measurement(qubit)"
   ]
  },
  {
   "cell_type": "code",
   "execution_count": 14,
   "metadata": {},
   "outputs": [
    {
     "name": "stdout",
     "output_type": "stream",
     "text": [
      "(0, 1, 2): ────────────H───H───M───H───\n",
      "\n",
      "(0, 3): ───────────────Z───X───────────\n",
      "\n",
      "(0, 5, 1, 3, 2, 4): ───H───────────────\n",
      "\n",
      "(1, 4): ───────────────Z───X───────────\n",
      "\n",
      "(2, 5): ───────────────Z───X───────────\n",
      "\n",
      "(3, 4, 5): ────────────H───────────────\n"
     ]
    }
   ],
   "source": [
    "SCC.draw_circuit()"
   ]
  },
  {
   "cell_type": "code",
   "execution_count": 15,
   "metadata": {},
   "outputs": [],
   "source": [
    "SCC.face_syndrome_measure((0, 5, 1, 3, 2, 4))"
   ]
  },
  {
   "cell_type": "code",
   "execution_count": 16,
   "metadata": {},
   "outputs": [
    {
     "name": "stdout",
     "output_type": "stream",
     "text": [
      "(0, 1, 2): ────────────H───H───M───H───────────────────\n",
      "\n",
      "(0, 3): ───────────────Z───X───@───────────────────────\n",
      "                               │\n",
      "(0, 5, 1, 3, 2, 4): ───H───────@───@───@───H───M───H───\n",
      "                                   │   │\n",
      "(1, 4): ───────────────Z───X───────@───┼───────────────\n",
      "                                       │\n",
      "(2, 5): ───────────────Z───X───────────@───────────────\n",
      "\n",
      "(3, 4, 5): ────────────H───────────────────────────────\n"
     ]
    }
   ],
   "source": [
    "SCC.draw_circuit()"
   ]
  },
  {
   "cell_type": "code",
   "execution_count": 17,
   "metadata": {},
   "outputs": [],
   "source": [
    "SCC.Z_1_chain([(1,4), (2,5)])"
   ]
  },
  {
   "cell_type": "code",
   "execution_count": 18,
   "metadata": {},
   "outputs": [
    {
     "name": "stdout",
     "output_type": "stream",
     "text": [
      "                                       ┌──┐\n",
      "(0, 1, 2): ────────────H───H───M───H──────────────────────\n",
      "\n",
      "(0, 3): ───────────────Z───X───@──────────────────────────\n",
      "                               │\n",
      "(0, 5, 1, 3, 2, 4): ───H───────@───@────@─────H───M───H───\n",
      "                                   │    │\n",
      "(1, 4): ───────────────Z───X───────@────┼Z────────────────\n",
      "                                        │\n",
      "(2, 5): ───────────────Z───X────────────@─────Z───────────\n",
      "\n",
      "(3, 4, 5): ────────────H──────────────────────────────────\n",
      "                                       └──┘\n"
     ]
    }
   ],
   "source": [
    "SCC.draw_circuit()"
   ]
  },
  {
   "cell_type": "code",
   "execution_count": 19,
   "metadata": {},
   "outputs": [
    {
     "data": {
      "image/png": "[encoded data removed]",
      "text/plain": [
       "<Figure size 432x288 with 1 Axes>"
      ]
     },
     "metadata": {},
     "output_type": "display_data"
    }
   ],
   "source": [
    "SCC.draw_graph('cycles', 'spring')"
   ]
  },
  {
   "cell_type": "markdown",
   "metadata": {},
   "source": [
    "## Generalized Pauli Group for Qudits"
   ]
  },
  {
   "cell_type": "markdown",
   "metadata": {},
   "source": [
    "While this is very useful, we would like a more general setup. In particular, we would like to have a surface code where each node represents a qudit of arbitrary dimension. We can think of this as a collection of systems, each of which is a $d_k$-level system, where the integer $d_k \\geq 2$. These could be physically implemented as molecules for example. The *white nodes* given by the $2$-cycles in $\\alpha$ will be $2$-level systems, i.e. *qubits*. These could be thought of as shared electrons that form molecular bonds since electrons are a typical example of a qubit. Each node represented by a cycle of $\\sigma$ would then be a qudit where the dimension is determined by the length of the cycle. Similarly, for the dual dessin, the cycles of $\\phi$ would also represent qudits with dimension determined by the length of the cycle. "
   ]
  },
  {
   "cell_type": "markdown",
   "metadata": {},
   "source": [
    "With this in mind we would like to define more general gates which generalize the Pauli and Clifford gates. In [Quantum Gates on Hybrid Qudits](http://zimp.zju.edu.cn/~xgwang/2003_A31012_Daboul_Wang_Barry.pdf) we see that the *Generalized Pauli Group* generated by the gates\n",
    "\n",
    "\\begin{align}\n",
    "X^jZ^k, \\quad & j, k \\in \\mathbb{Z}/d\\mathbb{Z}\n",
    "\\end{align}\n",
    "\n",
    "where \n",
    "\n",
    "\\begin{align}\n",
    "X^j|s\\rangle &= |s+j \\ (\\text{mod} \\ d)\\rangle\n",
    "\\end{align}\n",
    "\n",
    "and \n",
    "\n",
    "\\begin{align}\n",
    "Z|s\\rangle &= \\exp(2 \\pi i s/d)|s\\rangle \\\\\n",
    "&= \\zeta^s_d |s\\rangle\n",
    "\\end{align}\n",
    "\n",
    "where $\\zeta_d = \\exp(2 \\pi i/d)$, form a basis for the operators on $\\mathbb{H}_d = \\mathbb{C}^d$. We call the group $\\mathcal{P}_d = \\langle X_j, Z_k \\rangle$ the **Generalized Pauli Group**. The operators satisfy the following commutation relation:\n",
    "\n",
    "\\begin{align}\n",
    "Z^jX^k &= \\zeta_d^{jk}X^kZ^j,\n",
    "\\end{align}\n",
    "\n",
    "and\n",
    "\n",
    "\\begin{align}\n",
    "Z^d = X^d = I.\n",
    "\\end{align}\n",
    "\n",
    "Below, we implement these as classes using Google Cirq. A specific case of the `QuditPlusGate` can be found for qutrits in the [documentation for Cirq](https://cirq.readthedocs.io/en/stable/qudits.html)."
   ]
  },
  {
   "cell_type": "code",
   "execution_count": 20,
   "metadata": {},
   "outputs": [],
   "source": [
    "import cirq\n",
    "\n",
    "class QuditPlusGate(cirq.SingleQubitGate):\n",
    "    def __init__(self, node):\n",
    "        self.node = node\n",
    "        self.shift_plus()\n",
    "        \n",
    "    def shift_plus(self):\n",
    "        self.plus_gate = np.eye(N=1, M=len(self.node), k=len(self.node)-1, dtype=np.uint8)\n",
    "        shift_columns = np.eye(len(self.node), k=-1)\n",
    "        self.plus_gate = np.concatenate((self.plus_gate, shift_columns[1:,:]),axis=0)\n",
    "    \n",
    "    def _qid_shape_(self):\n",
    "        return (len(self.node),)\n",
    "\n",
    "    def _unitary_(self):\n",
    "        return self.shift_plus\n",
    "\n",
    "    def _circuit_diagram_info_(self, args):\n",
    "        return '[+1]'\n"
   ]
  },
  {
   "cell_type": "code",
   "execution_count": 21,
   "metadata": {},
   "outputs": [
    {
     "name": "stdout",
     "output_type": "stream",
     "text": [
      "0 (d=5): ───[+1]───\n"
     ]
    }
   ],
   "source": [
    "node = (1,2,3,4,5)\n",
    "q0 = cirq.LineQid(0, dimension=len(node))\n",
    "circuit = cirq.Circuit(\n",
    "    QuditPlusGate(node).on(q0)\n",
    ")\n",
    "print(circuit)"
   ]
  },
  {
   "cell_type": "code",
   "execution_count": 22,
   "metadata": {},
   "outputs": [
    {
     "data": {
      "text/plain": [
       "array([[0., 0., 0., 0., 1.],\n",
       "       [1., 0., 0., 0., 0.],\n",
       "       [0., 1., 0., 0., 0.],\n",
       "       [0., 0., 1., 0., 0.],\n",
       "       [0., 0., 0., 1., 0.]])"
      ]
     },
     "execution_count": 22,
     "metadata": {},
     "output_type": "execute_result"
    }
   ],
   "source": [
    "QuditPlusGate(node).plus_gate"
   ]
  },
  {
   "cell_type": "code",
   "execution_count": 23,
   "metadata": {},
   "outputs": [],
   "source": [
    "import cirq\n",
    "\n",
    "class ZGate(cirq.SingleQubitGate):\n",
    "    def __init__(self, node, s):\n",
    "        self.node = node\n",
    "        self.s = s\n",
    "        self.phase_gate()\n",
    "        \n",
    "        \n",
    "    def phase_gate(self):\n",
    "        t = np.exp(2*(self.s)*(np.pi)*1j/len(self.node))\n",
    "        self.z_gate = np.eye(N=len(self.node), dtype=np.uint8)*t\n",
    "    \n",
    "    def _qid_shape_(self):\n",
    "        return (len(self.node),)\n",
    "\n",
    "    def _unitary_(self):\n",
    "        return self.z_gate\n",
    "\n",
    "    def _circuit_diagram_info_(self, args):\n",
    "        return '[Z]'"
   ]
  },
  {
   "cell_type": "code",
   "execution_count": 24,
   "metadata": {},
   "outputs": [
    {
     "data": {
      "text/plain": [
       "array([[-0.5+0.8660254j, -0. +0.j       , -0. +0.j       ],\n",
       "       [-0. +0.j       , -0.5+0.8660254j, -0. +0.j       ],\n",
       "       [-0. +0.j       , -0. +0.j       , -0.5+0.8660254j]])"
      ]
     },
     "execution_count": 24,
     "metadata": {},
     "output_type": "execute_result"
    }
   ],
   "source": [
    "node = (1,2,3)\n",
    "ZGate(node,1).z_gate"
   ]
  },
  {
   "cell_type": "code",
   "execution_count": 25,
   "metadata": {},
   "outputs": [
    {
     "name": "stdout",
     "output_type": "stream",
     "text": [
      "0 (d=3): ───[Z]───\n"
     ]
    }
   ],
   "source": [
    "q0 = cirq.LineQid(0, dimension=len(node))\n",
    "circuit = cirq.Circuit(\n",
    "    ZGate(node,1).on(q0)\n",
    ")\n",
    "print(circuit)"
   ]
  },
  {
   "cell_type": "code",
   "execution_count": 26,
   "metadata": {},
   "outputs": [],
   "source": [
    "import cirq\n",
    "\n",
    "class QuditPlusPhaseGate(cirq.SingleQubitGate):\n",
    "    def __init__(self, node):\n",
    "        self.node = node\n",
    "        self.shift_phase_plus()\n",
    "        \n",
    "    def shift_phase_plus(self):\n",
    "        t = np.exp(2*(np.pi)*1j/len(self.node))\n",
    "        self.plus_gate = np.eye(N=1, M=len(self.node), k=len(self.node)-1, dtype=np.uint8)*t\n",
    "        shift_columns = np.eye(len(self.node), k=-1)\n",
    "        self.phase_plus_gate = np.concatenate((self.plus_gate, shift_columns[1:,:]),axis=0)\n",
    "    \n",
    "    def _qid_shape_(self):\n",
    "        return (len(self.node),)\n",
    "\n",
    "    def _unitary_(self):\n",
    "        return self.shift_plus\n",
    "\n",
    "    def _circuit_diagram_info_(self, args):\n",
    "        return '[P]'\n"
   ]
  },
  {
   "cell_type": "code",
   "execution_count": 27,
   "metadata": {},
   "outputs": [
    {
     "data": {
      "text/plain": [
       "array([[-0. +0.j       , -0. +0.j       , -0.5+0.8660254j],\n",
       "       [ 1. +0.j       ,  0. +0.j       ,  0. +0.j       ],\n",
       "       [ 0. +0.j       ,  1. +0.j       ,  0. +0.j       ]])"
      ]
     },
     "execution_count": 27,
     "metadata": {},
     "output_type": "execute_result"
    }
   ],
   "source": [
    "node = (1,2,3)\n",
    "QuditPlusPhaseGate(node).phase_plus_gate"
   ]
  },
  {
   "cell_type": "code",
   "execution_count": 28,
   "metadata": {},
   "outputs": [
    {
     "name": "stdout",
     "output_type": "stream",
     "text": [
      "0 (d=3): ───[P]───\n"
     ]
    }
   ],
   "source": [
    "q0 = cirq.LineQid(0, dimension=len(node))\n",
    "circuit = cirq.Circuit(\n",
    "    QuditPlusPhaseGate(node).on(q0)\n",
    ")\n",
    "print(circuit)"
   ]
  },
  {
   "cell_type": "markdown",
   "metadata": {},
   "source": [
    "## Fourier Gates"
   ]
  },
  {
   "cell_type": "markdown",
   "metadata": {},
   "source": [
    "Fourier gates involve the [Quantum Fourier Transform](https://en.wikipedia.org/wiki/Quantum_Fourier_transform). We have a [tutorial notebook on the QFT](https://github.com/The-Singularity-Research/quantum-fourier-transform). \n",
    "\n",
    "\\begin{align}\n",
    "|s) &= F|s\\rangle \\\\\n",
    "&= \\frac{1}{\\sqrt{d}}\\sum_{k=0}^{d-1}\\zeta^{sk}|k\\rangle, \\quad s \\in \\mathbb{Z}/d\\mathbb{Z}\n",
    "\\end{align}\n",
    "\n",
    "where \n",
    "\n",
    "\\begin{align}\n",
    "\\langle s'|s) &= \\frac{1}{\\sqrt{d}}\\zeta^{ss'}.\n",
    "\\end{align}"
   ]
  },
  {
   "cell_type": "markdown",
   "metadata": {},
   "source": [
    "The dual states $|s)$ are related to the computational basis by a *discrete Fourier transformation*. The $F$ gate is a qudit version of the one-qubit Hadamard gate $H$. However, the $F$ operator for $d \\geq 3$ is *not* Hermitian and its order is $4$ instead of $2$, unlike the usual qubit Hadamard gate\n",
    "\n",
    "\\begin{align}\n",
    "H = \\frac{1}{\\sqrt{2}}\n",
    "\\begin{pmatrix}\n",
    "1 & 1 \\\\\n",
    "1 & -1\n",
    "\\end{pmatrix}.\n",
    "\\end{align}\n",
    "\n",
    "Let's look at an example of how to construct the $F$-gate. "
   ]
  },
  {
   "cell_type": "code",
   "execution_count": 29,
   "metadata": {},
   "outputs": [
    {
     "name": "stdout",
     "output_type": "stream",
     "text": [
      "[[ 1.+0.j  0.+1.j -1.+0.j -0.-1.j]]\n"
     ]
    }
   ],
   "source": [
    "node = (1,2,3,4)\n",
    "\n",
    "t = np.exp(2*(np.pi)*1j/len(node))\n",
    "\n",
    "t_list = list()\n",
    "for j in range(len(node)):\n",
    "    t_list.append(t**j)\n",
    "t_list = np.array(t_list)\n",
    "t_list = np.reshape(t_list,(1,len(node)))\n",
    "t_list = np.round_(t_list, decimals=5, out=None)\n",
    "print(t_list)"
   ]
  },
  {
   "cell_type": "code",
   "execution_count": 30,
   "metadata": {},
   "outputs": [
    {
     "name": "stdout",
     "output_type": "stream",
     "text": [
      "[[ 1.+0.j  1.+0.j  1.+0.j  1.+0.j]\n",
      " [ 1.+0.j  0.+1.j -1.+0.j -0.-1.j]\n",
      " [ 1.+0.j -1.+0.j  1.-0.j -1.+0.j]\n",
      " [ 1.+0.j -0.-1.j -1.+0.j  0.+1.j]]\n"
     ]
    }
   ],
   "source": [
    "row_list = t_list**0\n",
    "for j in range(1,len(node)):\n",
    "    row_list = np.vstack((row_list, t_list**j))\n",
    "print(row_list)"
   ]
  },
  {
   "cell_type": "markdown",
   "metadata": {},
   "source": [
    "We can turn this into a class so that we have a single qudit gate in Cirq as follows. "
   ]
  },
  {
   "cell_type": "code",
   "execution_count": 31,
   "metadata": {},
   "outputs": [],
   "source": [
    "class QuditFourierGate(cirq.SingleQubitGate):\n",
    "    def __init__(self, node):\n",
    "        self.node = node\n",
    "        self.t = np.exp(2*(np.pi)*1j/len(self.node))\n",
    "        self.f_gate()\n",
    "        \n",
    "        \n",
    "    def f_gate(self):\n",
    "        t_list = list()\n",
    "        for j in range(len(node)):\n",
    "            t_list.append(t**j)\n",
    "        t_list = np.array(t_list)\n",
    "        t_list = np.reshape(t_list,(1,len(node)))\n",
    "        t_list = np.round_(t_list, decimals=5, out=None)\n",
    "        \n",
    "        row_list = t_list**0\n",
    "        for j in range(1,len(node)):\n",
    "            row_list = np.vstack((row_list, t_list**j))\n",
    "        self.fourier_gate = row_list\n",
    "        \n",
    "    \n",
    "    def _qid_shape_(self):\n",
    "        return (len(self.node),)\n",
    "\n",
    "    def _unitary_(self):\n",
    "        return self.fourier_gate\n",
    "\n",
    "    def _circuit_diagram_info_(self, args):\n",
    "        return '[F]'"
   ]
  },
  {
   "cell_type": "code",
   "execution_count": 32,
   "metadata": {},
   "outputs": [],
   "source": [
    "node = (1,2,3,4,5,6)"
   ]
  },
  {
   "cell_type": "code",
   "execution_count": 33,
   "metadata": {},
   "outputs": [],
   "source": [
    "F = QuditFourierGate(node)"
   ]
  },
  {
   "cell_type": "code",
   "execution_count": 34,
   "metadata": {},
   "outputs": [
    {
     "data": {
      "text/plain": [
       "array([[ 1.+0.j,  1.+0.j,  1.+0.j,  1.+0.j,  1.+0.j,  1.+0.j],\n",
       "       [ 1.+0.j,  0.+1.j, -1.+0.j, -0.-1.j,  1.-0.j,  0.+1.j],\n",
       "       [ 1.+0.j, -1.+0.j,  1.-0.j, -1.+0.j,  1.-0.j, -1.+0.j],\n",
       "       [ 1.+0.j, -0.-1.j, -1.+0.j,  0.+1.j,  1.-0.j, -0.-1.j],\n",
       "       [ 1.+0.j,  1.+0.j,  1.+0.j,  1.+0.j,  1.+0.j,  1.+0.j],\n",
       "       [ 1.+0.j,  0.+1.j, -1.+0.j,  0.-1.j,  1.+0.j,  0.+1.j]])"
      ]
     },
     "execution_count": 34,
     "metadata": {},
     "output_type": "execute_result"
    }
   ],
   "source": [
    "F.fourier_gate"
   ]
  },
  {
   "cell_type": "code",
   "execution_count": 35,
   "metadata": {},
   "outputs": [
    {
     "name": "stdout",
     "output_type": "stream",
     "text": [
      "0 (d=6): ───[F]───\n"
     ]
    }
   ],
   "source": [
    "q0 = cirq.LineQid(0, dimension=len(node))\n",
    "circuit = cirq.Circuit(\n",
    "    QuditFourierGate(node).on(q0)\n",
    ")\n",
    "print(circuit)"
   ]
  },
  {
   "cell_type": "markdown",
   "metadata": {},
   "source": [
    "## Hybrid Qudit Surface Codes"
   ]
  },
  {
   "cell_type": "markdown",
   "metadata": {},
   "source": [
    "Now, we create a class that creates a surface code circuit with qudits based on the lengths of the cycles in the dessin $[\\sigma, \\alpha, \\phi]$. Our next goal will be to implement hybrid two-qudit gates. "
   ]
  },
  {
   "cell_type": "code",
   "execution_count": 36,
   "metadata": {},
   "outputs": [],
   "source": [
    "import cirq\n",
    "import numpy as np\n",
    "from typing import Tuple\n",
    "from networkx import nx\n",
    "\n",
    "# from qiskit import\n",
    "# from src import SurfaceCodeGraph\n",
    "\n",
    "\n",
    "class MixedSurfaceCodeCircuit():\n",
    "\n",
    "    def __init__(self, sigma: Tuple[Tuple[int]], alpha: Tuple[Tuple[int]]):\n",
    "        # super().__init__()\n",
    "        self.sigma = sigma\n",
    "        self.alpha = alpha\n",
    "\n",
    "        self.scgraph = SurfaceCodeGraph(self.sigma, self.alpha)\n",
    "\n",
    "        '''\n",
    "        Compute the permutation corresponding to phi and create a \n",
    "        'surface code circuit' based on a (multi)graph 'surface_code_graph'\n",
    "        given by sigma, alpha, and phi\n",
    "        Create quantum and classical registers based on the number of nodes in G\n",
    "        '''\n",
    "        # f = self.scgraph.compute_phi()\n",
    "        self.phi = self.scgraph.phi\n",
    "\n",
    "        self.qubits = [cirq.NamedQubit(str(node)).with_dimension(len(node)) for node in self.scgraph.code_graph.nodes]\n",
    "        self.circuit = cirq.Circuit()\n",
    "\n",
    "        self.node_info = self.scgraph.node_dict\n",
    "        self.sigma_dict, self.alpha_dict, self.phi_dict = self.node_info\n",
    "\n",
    "            \n",
    "    \n",
    "\n",
    "    def draw_circuit(self, render=''):\n",
    "        # if render == 'mpl':\n",
    "        #   self.Qiskit_circ = SurfaceCodeCircuit(self.sigma, self.alpha)\n",
    "        #  return self.Qiskit_circ.circ.draw('mpl')\n",
    "\n",
    "        # if render == 'plain':\n",
    "        #   self.Qiskit_circ = SurfaceCodeCircuit(self.sigma, self.alpha)\n",
    "        #  return self.Qiskit_circ.circ.draw()\n",
    "\n",
    "        if render == '':\n",
    "            print(self.circuit)\n",
    "\n",
    "\n",
    "    def draw_graph(self, node_type='', layout=''):\n",
    "        if layout == 'spring':\n",
    "            pos = nx.spring_layout(self.scgraph.code_graph)\n",
    "        if layout == 'spectral':\n",
    "            pos = nx.spectral_layout(self.scgraph.code_graph)\n",
    "        if layout == 'planar':\n",
    "            pos = nx.planar_layout(self.scgraph.code_graph)\n",
    "        if layout == 'shell':\n",
    "            pos = nx.shell_layout(self.scgraph.code_graph)\n",
    "        if layout == 'circular':\n",
    "            pos = nx.circular_layout(self.scgraph.code_graph)\n",
    "        if layout == 'spiral':\n",
    "            pos = nx.spiral_layout(self.scgraph.code_graph)\n",
    "        if layout == 'random':\n",
    "            pos = nx.random_layout(self.scgraph.code_graph)\n",
    "        if node_type == 'cycles':\n",
    "            self.scgraph.draw('cycles', layout)\n",
    "        if node_type == 'dict':\n",
    "            self.scgraph.draw('dict', layout)"
   ]
  },
  {
   "cell_type": "code",
   "execution_count": null,
   "metadata": {},
   "outputs": [],
   "source": []
  },
  {
   "cell_type": "markdown",
   "metadata": {},
   "source": [
    "## Physical Implementations"
   ]
  },
  {
   "cell_type": "markdown",
   "metadata": {},
   "source": [
    "- [Scalable quantum computing with qudits on a graph](https://arxiv.org/pdf/1909.08973.pdf)\n",
    "- [Cyclic permutations for qudits in d dimensions](https://www.nature.com/articles/s41598-019-42708-7.pdf?proof=true)\n",
    "- [Practical trapped-ion protocols for universal qudit-based quantum computing](https://arxiv.org/pdf/1907.08569.pdf)"
   ]
  },
  {
   "cell_type": "markdown",
   "metadata": {},
   "source": [
    "## Theoretical Background"
   ]
  },
  {
   "cell_type": "markdown",
   "metadata": {},
   "source": [
    "- [Graph states of prime-power dimension from generalized CNOT quantum circuit](https://www.nature.com/articles/srep27135)\n",
    "- [Improved Quantum Circuits with Qudits and Dirty Ancillae](https://www.microarch.org/micro51/SRC/posters/13_gokhale.pdf)\n",
    "- [Quantum Gates on Hybrid Qudits](http://zimp.zju.edu.cn/~xgwang/2003_A31012_Daboul_Wang_Barry.pdf)\n",
    "- [A SWAP gate for qudits](https://arxiv.org/pdf/1304.4923.pdf)"
   ]
  },
  {
   "cell_type": "markdown",
   "metadata": {},
   "source": [
    "## Error Correction"
   ]
  },
  {
   "cell_type": "markdown",
   "metadata": {},
   "source": [
    "- [Transversal Clifford gates on folded surface codes](https://www.osti.gov/servlets/purl/1333573)\n",
    "- [Standard form of qudit stabilizer groups](https://arxiv.org/pdf/1101.1519.pdf)\n",
    "- [Qudit surface codes and gauge theory with finite cyclic groups](https://arxiv.org/pdf/quant-ph/0609070.pdf)\n",
    "- [A fast fault-tolerant decoder for qubit and qudit surface codes](https://arxiv.org/pdf/1411.3028.pdf)\n",
    "- [Daniel Gottesman: Stabilizer Codes for Prime Power Qudits](https://www.youtube.com/watch?v=JWg4zrNAF-g)\n",
    "- [Slides](https://www.qec14.ethz.ch/slides/DanielGottesman.pdf)"
   ]
  },
  {
   "cell_type": "markdown",
   "metadata": {},
   "source": [
    "## Goggle Cirq Documentation\n",
    "\n",
    "- [Google Cirq Qudits](https://cirq.readthedocs.io/en/stable/qudits.html)"
   ]
  },
  {
   "cell_type": "code",
   "execution_count": null,
   "metadata": {},
   "outputs": [],
   "source": []
  }
 ],
 "metadata": {
  "kernelspec": {
   "display_name": "Python 3",
   "language": "python",
   "name": "python3"
  },
  "language_info": {
   "codemirror_mode": {
    "name": "ipython",
    "version": 3
   },
   "file_extension": ".py",
   "mimetype": "text/x-python",
   "name": "python",
   "nbconvert_exporter": "python",
   "pygments_lexer": "ipython3",
   "version": "3.7.6"
  }
 },
 "nbformat": 4,
 "nbformat_minor": 4
}
